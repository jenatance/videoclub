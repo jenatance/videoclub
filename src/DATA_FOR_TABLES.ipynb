{
 "cells": [
  {
   "cell_type": "markdown",
   "id": "959f9ef7",
   "metadata": {},
   "source": [
    "# DATA FOR TABLES"
   ]
  },
  {
   "cell_type": "code",
   "execution_count": 1,
   "id": "1977c9dd",
   "metadata": {},
   "outputs": [],
   "source": [
    "import pandas as pd\n",
    "pd.set_option('display.max_columns', None)\n",
    "\n",
    "import numpy as np\n",
    "\n",
    "import warnings"
   ]
  },
  {
   "cell_type": "code",
   "execution_count": 3,
   "id": "280021a3",
   "metadata": {},
   "outputs": [],
   "source": [
    "actor = pd.read_csv('../data/actor_clean.csv')\n",
    "category = pd.read_csv('../data/category_clean.csv')\n",
    "film = pd.read_csv('../data/film_clean.csv')\n",
    "inventory = pd.read_csv('../data/inventory_clean.csv')\n",
    "language = pd.read_csv('../data/language_clean.csv')\n",
    "old = pd.read_csv('../data/old_clean.csv')\n",
    "rental = pd.read_csv('../data/rental_clean.csv')"
   ]
  },
  {
   "cell_type": "code",
   "execution_count": null,
   "id": "67046bb7",
   "metadata": {},
   "outputs": [],
   "source": []
  },
  {
   "cell_type": "code",
   "execution_count": null,
   "id": "c292e552",
   "metadata": {},
   "outputs": [],
   "source": []
  },
  {
   "cell_type": "code",
   "execution_count": null,
   "id": "386f29fb",
   "metadata": {},
   "outputs": [],
   "source": []
  },
  {
   "cell_type": "code",
   "execution_count": null,
   "id": "c4ef6ace",
   "metadata": {},
   "outputs": [],
   "source": []
  },
  {
   "cell_type": "code",
   "execution_count": null,
   "id": "e4bbf724",
   "metadata": {},
   "outputs": [],
   "source": [
    "film.to_csv('../../data/film_clean.csv', sep=',', index=False)"
   ]
  }
 ],
 "metadata": {
  "kernelspec": {
   "display_name": "Python 3 (ipykernel)",
   "language": "python",
   "name": "python3"
  },
  "language_info": {
   "codemirror_mode": {
    "name": "ipython",
    "version": 3
   },
   "file_extension": ".py",
   "mimetype": "text/x-python",
   "name": "python",
   "nbconvert_exporter": "python",
   "pygments_lexer": "ipython3",
   "version": "3.9.7"
  }
 },
 "nbformat": 4,
 "nbformat_minor": 5
}
