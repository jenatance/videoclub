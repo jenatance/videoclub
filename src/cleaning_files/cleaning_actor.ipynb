{
 "cells": [
  {
   "cell_type": "markdown",
   "id": "5d6f92b8",
   "metadata": {},
   "source": [
    "# ACTORS"
   ]
  },
  {
   "cell_type": "code",
   "execution_count": 2,
   "id": "f9598e60",
   "metadata": {},
   "outputs": [],
   "source": [
    "import pandas as pd\n",
    "pd.set_option('display.max_columns', None)\n",
    "\n",
    "import numpy as np\n",
    "\n",
    "import warnings"
   ]
  },
  {
   "cell_type": "code",
   "execution_count": 3,
   "id": "9ba37af8",
   "metadata": {},
   "outputs": [],
   "source": [
    "actor = pd.read_csv('../../data/actor.csv')"
   ]
  },
  {
   "cell_type": "code",
   "execution_count": 4,
   "id": "1d741f53",
   "metadata": {},
   "outputs": [
    {
     "data": {
      "text/html": [
       "<div>\n",
       "<style scoped>\n",
       "    .dataframe tbody tr th:only-of-type {\n",
       "        vertical-align: middle;\n",
       "    }\n",
       "\n",
       "    .dataframe tbody tr th {\n",
       "        vertical-align: top;\n",
       "    }\n",
       "\n",
       "    .dataframe thead th {\n",
       "        text-align: right;\n",
       "    }\n",
       "</style>\n",
       "<table border=\"1\" class=\"dataframe\">\n",
       "  <thead>\n",
       "    <tr style=\"text-align: right;\">\n",
       "      <th></th>\n",
       "      <th>actor_id</th>\n",
       "      <th>first_name</th>\n",
       "      <th>last_name</th>\n",
       "      <th>last_update</th>\n",
       "    </tr>\n",
       "  </thead>\n",
       "  <tbody>\n",
       "    <tr>\n",
       "      <th>0</th>\n",
       "      <td>1</td>\n",
       "      <td>PENELOPE</td>\n",
       "      <td>GUINESS</td>\n",
       "      <td>2006-02-15 04:34:33</td>\n",
       "    </tr>\n",
       "    <tr>\n",
       "      <th>1</th>\n",
       "      <td>2</td>\n",
       "      <td>NICK</td>\n",
       "      <td>WAHLBERG</td>\n",
       "      <td>2006-02-15 04:34:33</td>\n",
       "    </tr>\n",
       "    <tr>\n",
       "      <th>2</th>\n",
       "      <td>3</td>\n",
       "      <td>ED</td>\n",
       "      <td>CHASE</td>\n",
       "      <td>2006-02-15 04:34:33</td>\n",
       "    </tr>\n",
       "    <tr>\n",
       "      <th>3</th>\n",
       "      <td>4</td>\n",
       "      <td>JENNIFER</td>\n",
       "      <td>DAVIS</td>\n",
       "      <td>2006-02-15 04:34:33</td>\n",
       "    </tr>\n",
       "    <tr>\n",
       "      <th>4</th>\n",
       "      <td>5</td>\n",
       "      <td>JOHNNY</td>\n",
       "      <td>LOLLOBRIGIDA</td>\n",
       "      <td>2006-02-15 04:34:33</td>\n",
       "    </tr>\n",
       "  </tbody>\n",
       "</table>\n",
       "</div>"
      ],
      "text/plain": [
       "   actor_id first_name     last_name          last_update\n",
       "0         1   PENELOPE       GUINESS  2006-02-15 04:34:33\n",
       "1         2       NICK      WAHLBERG  2006-02-15 04:34:33\n",
       "2         3         ED         CHASE  2006-02-15 04:34:33\n",
       "3         4   JENNIFER         DAVIS  2006-02-15 04:34:33\n",
       "4         5     JOHNNY  LOLLOBRIGIDA  2006-02-15 04:34:33"
      ]
     },
     "execution_count": 4,
     "metadata": {},
     "output_type": "execute_result"
    }
   ],
   "source": [
    "actor.head()"
   ]
  },
  {
   "cell_type": "code",
   "execution_count": 5,
   "id": "d232377e",
   "metadata": {},
   "outputs": [
    {
     "data": {
      "text/plain": [
       "(200, 4)"
      ]
     },
     "execution_count": 5,
     "metadata": {},
     "output_type": "execute_result"
    }
   ],
   "source": [
    "actor_ori_shape = actor.shape\n",
    "actor_ori_shape"
   ]
  },
  {
   "cell_type": "code",
   "execution_count": 6,
   "id": "1f2638db",
   "metadata": {},
   "outputs": [
    {
     "name": "stdout",
     "output_type": "stream",
     "text": [
      "<class 'pandas.core.frame.DataFrame'>\n",
      "RangeIndex: 200 entries, 0 to 199\n",
      "Data columns (total 4 columns):\n",
      " #   Column       Non-Null Count  Dtype \n",
      "---  ------       --------------  ----- \n",
      " 0   actor_id     200 non-null    int64 \n",
      " 1   first_name   200 non-null    object\n",
      " 2   last_name    200 non-null    object\n",
      " 3   last_update  200 non-null    object\n",
      "dtypes: int64(1), object(3)\n",
      "memory usage: 6.4+ KB\n"
     ]
    }
   ],
   "source": [
    "actor.info() # no tiene nulos"
   ]
  },
  {
   "cell_type": "code",
   "execution_count": 9,
   "id": "4b4e4dd0",
   "metadata": {},
   "outputs": [],
   "source": [
    "df = pd.DataFrame(columns=['fullName']) \n",
    "df['fullName'] = actor[\"first_name\"] + \" \" + actor[\"last_name\"] # unimos los nombres y los apellidos de los actores para ver valores únicos en conjunto"
   ]
  },
  {
   "cell_type": "code",
   "execution_count": 15,
   "id": "884345d1",
   "metadata": {},
   "outputs": [
    {
     "name": "stdout",
     "output_type": "stream",
     "text": [
      "SUSAN DAVIS             2\n",
      "EWAN GOODING            1\n",
      "DARYL CRAWFORD          1\n",
      "GRETA KEITEL            1\n",
      "JANE JACKMAN            1\n",
      "                       ..\n",
      "MICHELLE MCCONAUGHEY    1\n",
      "ADAM GRANT              1\n",
      "SEAN WILLIAMS           1\n",
      "GARY PENN               1\n",
      "THORA TEMPLE            1\n",
      "Name: fullName, Length: 199, dtype: int64\n"
     ]
    }
   ],
   "source": [
    "print(df[\"fullName\"].value_counts()) # vemos que tenemos 199 valores por lo que hay uno de ellos que está repetido ya que debería haber 200"
   ]
  },
  {
   "cell_type": "code",
   "execution_count": 33,
   "id": "0c799fde",
   "metadata": {},
   "outputs": [
    {
     "data": {
      "text/html": [
       "<div>\n",
       "<style scoped>\n",
       "    .dataframe tbody tr th:only-of-type {\n",
       "        vertical-align: middle;\n",
       "    }\n",
       "\n",
       "    .dataframe tbody tr th {\n",
       "        vertical-align: top;\n",
       "    }\n",
       "\n",
       "    .dataframe thead th {\n",
       "        text-align: right;\n",
       "    }\n",
       "</style>\n",
       "<table border=\"1\" class=\"dataframe\">\n",
       "  <thead>\n",
       "    <tr style=\"text-align: right;\">\n",
       "      <th></th>\n",
       "      <th>actor_id</th>\n",
       "      <th>first_name</th>\n",
       "      <th>last_name</th>\n",
       "      <th>last_update</th>\n",
       "    </tr>\n",
       "  </thead>\n",
       "  <tbody>\n",
       "    <tr>\n",
       "      <th>100</th>\n",
       "      <td>101</td>\n",
       "      <td>SUSAN</td>\n",
       "      <td>DAVIS</td>\n",
       "      <td>2006-02-15 04:34:33</td>\n",
       "    </tr>\n",
       "    <tr>\n",
       "      <th>109</th>\n",
       "      <td>110</td>\n",
       "      <td>SUSAN</td>\n",
       "      <td>DAVIS</td>\n",
       "      <td>2006-02-15 04:34:33</td>\n",
       "    </tr>\n",
       "  </tbody>\n",
       "</table>\n",
       "</div>"
      ],
      "text/plain": [
       "     actor_id first_name last_name          last_update\n",
       "100       101      SUSAN     DAVIS  2006-02-15 04:34:33\n",
       "109       110      SUSAN     DAVIS  2006-02-15 04:34:33"
      ]
     },
     "execution_count": 33,
     "metadata": {},
     "output_type": "execute_result"
    }
   ],
   "source": [
    "indexNames = actor[(actor['last_name'] == 'DAVIS') & (actor['first_name'] == 'SUSAN')] # vemos en qué índices tenemos a Susan Davis\n",
    "indexNames"
   ]
  },
  {
   "cell_type": "code",
   "execution_count": 34,
   "id": "38274e08",
   "metadata": {},
   "outputs": [],
   "source": [
    "actor.drop([109], axis=0, inplace=True)"
   ]
  },
  {
   "cell_type": "code",
   "execution_count": 35,
   "id": "bce29b10",
   "metadata": {},
   "outputs": [
    {
     "data": {
      "text/plain": [
       "(199, 4)"
      ]
     },
     "execution_count": 35,
     "metadata": {},
     "output_type": "execute_result"
    }
   ],
   "source": [
    "actor.shape"
   ]
  },
  {
   "cell_type": "code",
   "execution_count": 38,
   "id": "103ce8ee",
   "metadata": {},
   "outputs": [],
   "source": [
    "df = pd.DataFrame(columns=['fullName']) \n",
    "df['fullName'] = actor[\"first_name\"] + \" \" + actor[\"last_name\"]"
   ]
  },
  {
   "cell_type": "code",
   "execution_count": 39,
   "id": "eca6cda4",
   "metadata": {},
   "outputs": [
    {
     "name": "stdout",
     "output_type": "stream",
     "text": [
      "PENELOPE GUINESS        1\n",
      "KEVIN GARLAND           1\n",
      "DARYL CRAWFORD          1\n",
      "GRETA KEITEL            1\n",
      "JANE JACKMAN            1\n",
      "                       ..\n",
      "MICHELLE MCCONAUGHEY    1\n",
      "ADAM GRANT              1\n",
      "SEAN WILLIAMS           1\n",
      "GARY PENN               1\n",
      "THORA TEMPLE            1\n",
      "Name: fullName, Length: 199, dtype: int64\n"
     ]
    }
   ],
   "source": [
    "print(df[\"fullName\"].value_counts()) # vemos que ya no tenemos valores repetidos"
   ]
  },
  {
   "cell_type": "code",
   "execution_count": 40,
   "id": "3168bfbc",
   "metadata": {},
   "outputs": [],
   "source": [
    "actor['last_update'] = pd.to_datetime(actor['last_update'], yearfirst = True)"
   ]
  },
  {
   "cell_type": "code",
   "execution_count": 41,
   "id": "6b3dd673",
   "metadata": {},
   "outputs": [
    {
     "name": "stdout",
     "output_type": "stream",
     "text": [
      "<class 'pandas.core.frame.DataFrame'>\n",
      "Int64Index: 199 entries, 0 to 199\n",
      "Data columns (total 4 columns):\n",
      " #   Column       Non-Null Count  Dtype         \n",
      "---  ------       --------------  -----         \n",
      " 0   actor_id     199 non-null    int64         \n",
      " 1   first_name   199 non-null    object        \n",
      " 2   last_name    199 non-null    object        \n",
      " 3   last_update  199 non-null    datetime64[ns]\n",
      "dtypes: datetime64[ns](1), int64(1), object(2)\n",
      "memory usage: 7.8+ KB\n"
     ]
    }
   ],
   "source": [
    "actor.info()"
   ]
  },
  {
   "cell_type": "code",
   "execution_count": 42,
   "id": "d7376a99",
   "metadata": {},
   "outputs": [],
   "source": [
    "actor.to_csv('../../data/actor_clean.csv', sep=',', index=False)"
   ]
  }
 ],
 "metadata": {
  "kernelspec": {
   "display_name": "Python 3 (ipykernel)",
   "language": "python",
   "name": "python3"
  },
  "language_info": {
   "codemirror_mode": {
    "name": "ipython",
    "version": 3
   },
   "file_extension": ".py",
   "mimetype": "text/x-python",
   "name": "python",
   "nbconvert_exporter": "python",
   "pygments_lexer": "ipython3",
   "version": "3.9.7"
  }
 },
 "nbformat": 4,
 "nbformat_minor": 5
}
